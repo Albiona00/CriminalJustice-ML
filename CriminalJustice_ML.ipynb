{
 "cells": [
  {
   "cell_type": "markdown",
   "id": "80e351e6",
   "metadata": {},
   "source": [
    "##### Import Libraries"
   ]
  },
  {
   "cell_type": "code",
   "execution_count": 31,
   "id": "290950b2",
   "metadata": {},
   "outputs": [],
   "source": [
    "import pandas as pd\n",
    "import numpy as np\n",
    "from scipy import stats\n",
    "from imblearn.over_sampling import SMOTE"
   ]
  },
  {
   "cell_type": "markdown",
   "id": "ee8fcc1b",
   "metadata": {},
   "source": [
    "##### Read datasets"
   ]
  },
  {
   "cell_type": "code",
   "execution_count": 32,
   "id": "0f6b43a6",
   "metadata": {},
   "outputs": [],
   "source": [
    "CJ_releases_df = pd.read_csv('C:/MachineLearning/CJ_Releases_2022.csv')\n",
    "CJ_receives_df = pd.read_csv('C:/MachineLearning/CJ_Receives_2022.csv')"
   ]
  },
  {
   "cell_type": "markdown",
   "id": "8f546b2c",
   "metadata": {},
   "source": [
    "### Phase I"
   ]
  },
  {
   "cell_type": "code",
   "execution_count": 33,
   "id": "73c123f2",
   "metadata": {},
   "outputs": [],
   "source": [
    "# Column rename\n",
    "CJ_releases_df.rename(columns={'Release Date': 'Date', 'Release Type': 'Type'}, inplace=True)\n",
    "CJ_receives_df.rename(columns={'Receive Date': 'Date', 'Receive Type': 'Type'}, inplace=True)\n",
    "\n",
    "CJ_releases_df['Record Type'] = 'Release'\n",
    "CJ_receives_df['Record Type'] = 'Receive'\n"
   ]
  },
  {
   "cell_type": "markdown",
   "id": "4ac14a14",
   "metadata": {},
   "source": [
    "##### Datasets Integration"
   ]
  },
  {
   "cell_type": "code",
   "execution_count": 34,
   "id": "807b64d1",
   "metadata": {},
   "outputs": [],
   "source": [
    "\n",
    "CriminalJustice_df = pd.concat([CJ_releases_df, CJ_receives_df], ignore_index=True)\n",
    "\n",
    "file_path = 'C:\\\\CJ_ML\\\\CriminalJustice_df.csv'\n",
    "CriminalJustice_df.to_csv(file_path, index=False)"
   ]
  },
  {
   "cell_type": "code",
   "execution_count": 35,
   "id": "7dbecc47",
   "metadata": {},
   "outputs": [
    {
     "name": "stdout",
     "output_type": "stream",
     "text": [
      "Date                   object\n",
      "Type                   object\n",
      "Inmate Type            object\n",
      "Gender                 object\n",
      "Race                   object\n",
      "Age                     int64\n",
      "County                 object\n",
      "Offense Code            int64\n",
      "Offense                object\n",
      "Offense Description    object\n",
      "Sentence Date          object\n",
      "Offense Date           object\n",
      "Sentence (Years)       object\n",
      "Record Type            object\n",
      "dtype: object\n"
     ]
    }
   ],
   "source": [
    "# Define data type\n",
    "data_types = CriminalJustice_df.dtypes\n",
    "\n",
    "print(data_types)"
   ]
  },
  {
   "cell_type": "code",
   "execution_count": 36,
   "id": "45934759",
   "metadata": {},
   "outputs": [
    {
     "name": "stdout",
     "output_type": "stream",
     "text": [
      "Date                    326\n",
      "Type                     23\n",
      "Inmate Type              42\n",
      "Gender                    2\n",
      "Race                      6\n",
      "Age                      72\n",
      "County                  251\n",
      "Offense Code            716\n",
      "Offense                   4\n",
      "Offense Description     710\n",
      "Sentence Date          5623\n",
      "Offense Date           7783\n",
      "Sentence (Years)         40\n",
      "Record Type               2\n",
      "dtype: int64\n"
     ]
    }
   ],
   "source": [
    "# Unique values\n",
    "print(CriminalJustice_df.nunique())"
   ]
  },
  {
   "cell_type": "code",
   "execution_count": 37,
   "id": "aa3727ee",
   "metadata": {},
   "outputs": [
    {
     "name": "stdout",
     "output_type": "stream",
     "text": [
      "Number of duplicate rows: 1\n",
      "Duplicate Rows:\n",
      "             Date     Type Inmate Type Gender   Race  Age County  \\\n",
      "84000  08/01/2022  New Rcv          ID      M  Black   19  Falls   \n",
      "\n",
      "       Offense Code  Offense        Offense Description Sentence Date  \\\n",
      "84000      13150005  Violent  AGG ASSLT W/DEADLY WEAPON    07/14/2022   \n",
      "\n",
      "      Offense Date Sentence (Years) Record Type  \n",
      "84000   08/26/2021         10 Years     Receive  \n",
      "Indices of duplicate rows: [84000]\n"
     ]
    }
   ],
   "source": [
    "# Check for duplicate rows\n",
    "duplicates = CriminalJustice_df[CriminalJustice_df.duplicated(keep='first')]\n",
    "\n",
    "num_duplicates = duplicates.shape[0]\n",
    "print(f\"Number of duplicate rows: {num_duplicates}\")\n",
    "\n",
    "if num_duplicates > 0:\n",
    "    print(\"Duplicate Rows:\")\n",
    "    print(duplicates)\n",
    "    duplicate_indices = duplicates.index.tolist()\n",
    "    print(f\"Indices of duplicate rows: {duplicate_indices}\")\n",
    "else:\n",
    "    print(\"No duplicate rows found.\")\n"
   ]
  },
  {
   "cell_type": "code",
   "execution_count": 38,
   "id": "8a09aa61",
   "metadata": {},
   "outputs": [
    {
     "name": "stdout",
     "output_type": "stream",
     "text": [
      "Number of duplicate rows after deletion: 0\n",
      "All duplicate rows have been successfully deleted.\n"
     ]
    }
   ],
   "source": [
    "\n",
    "# Remove duplicate rows\n",
    "CriminalJustice_df = CriminalJustice_df.drop_duplicates(keep='first')\n",
    "\n",
    "duplicates_after_deletion = CriminalJustice_df[CriminalJustice_df.duplicated(keep='first')]\n",
    "num_duplicates_after_deletion = duplicates_after_deletion.shape[0]\n",
    "\n",
    "print(f\"Number of duplicate rows after deletion: {num_duplicates_after_deletion}\")\n",
    "if num_duplicates_after_deletion > 0:\n",
    "    print(\"There are still duplicate rows after deletion, which is unexpected.\")\n",
    "else:\n",
    "    print(\"All duplicate rows have been successfully deleted.\")"
   ]
  },
  {
   "cell_type": "markdown",
   "id": "42b8ac09",
   "metadata": {},
   "source": [
    "##### Handling missing values"
   ]
  },
  {
   "cell_type": "code",
   "execution_count": 39,
   "id": "be7f41c3",
   "metadata": {},
   "outputs": [
    {
     "name": "stdout",
     "output_type": "stream",
     "text": [
      "Date                      0\n",
      "Type                      0\n",
      "Inmate Type               0\n",
      "Gender                    0\n",
      "Race                      0\n",
      "Age                       0\n",
      "County                    0\n",
      "Offense Code              0\n",
      "Offense                   0\n",
      "Offense Description     276\n",
      "Sentence Date          8085\n",
      "Offense Date              4\n",
      "Sentence (Years)          0\n",
      "Record Type               0\n",
      "dtype: int64\n"
     ]
    }
   ],
   "source": [
    "# Null values\n",
    "print(CriminalJustice_df.isnull().sum())"
   ]
  },
  {
   "cell_type": "code",
   "execution_count": 40,
   "id": "d1ce9af1",
   "metadata": {},
   "outputs": [],
   "source": [
    "# Fill missing  'Offense Description' based on the Offense Code\n",
    "offense_code_to_description = CriminalJustice_df.dropna(subset=['Offense Description']).groupby('Offense Code')['Offense Description'].agg(pd.Series.mode).to_dict()\n",
    "CriminalJustice_df.loc[CriminalJustice_df['Offense Description'].isnull(), 'Offense Description'] = CriminalJustice_df.loc[CriminalJustice_df['Offense Description'].isnull(), 'Offense Code'].map(offense_code_to_description)\n",
    "offense_code_to_description = CriminalJustice_df.dropna(subset=['Offense Description']).groupby('Offense Code')['Offense Description'].agg(lambda x: pd.Series.mode(x).iloc[0]).to_dict()\n",
    "CriminalJustice_df.loc[CriminalJustice_df['Offense Description'].isnull(), 'Offense Description'] = CriminalJustice_df.loc[CriminalJustice_df['Offense Description'].isnull(), 'Offense Code'].map(offense_code_to_description)\n",
    "\n",
    "CriminalJustice_df['Offense Description'] = CriminalJustice_df['Offense Description'].fillna('Unknown')"
   ]
  },
  {
   "cell_type": "code",
   "execution_count": 41,
   "id": "4648781f",
   "metadata": {},
   "outputs": [
    {
     "name": "stdout",
     "output_type": "stream",
     "text": [
      "Date                   0\n",
      "Type                   0\n",
      "Inmate Type            0\n",
      "Gender                 0\n",
      "Race                   0\n",
      "Age                    0\n",
      "County                 0\n",
      "Offense Code           0\n",
      "Offense                0\n",
      "Offense Description    0\n",
      "Sentence Date          0\n",
      "Offense Date           0\n",
      "Sentence (Years)       0\n",
      "Record Type            0\n",
      "dtype: int64\n"
     ]
    }
   ],
   "source": [
    "# Fill missing 'Sentence Date' and 'Offense Date' with 'Unknown'\n",
    "CriminalJustice_df['Sentence Date'] = CriminalJustice_df['Sentence Date'].fillna('Unknown')\n",
    "CriminalJustice_df['Offense Date'] = CriminalJustice_df['Offense Date'].fillna('Unknown')\n",
    "\n",
    "CriminalJustice_df.to_csv('C:\\\\CJ_ML\\\\CriminalJustice_df_filledDates.csv', index=False)\n",
    "\n",
    "print(CriminalJustice_df.isnull().sum())"
   ]
  },
  {
   "cell_type": "code",
   "execution_count": 42,
   "id": "259d3df1",
   "metadata": {},
   "outputs": [
    {
     "name": "stdout",
     "output_type": "stream",
     "text": [
      "0         118.0\n",
      "1         624.0\n",
      "2         170.0\n",
      "3         219.0\n",
      "4         468.0\n",
      "          ...  \n",
      "91593    1575.0\n",
      "91594     717.0\n",
      "91595     426.0\n",
      "91596    2225.0\n",
      "91597    1225.0\n",
      "Name: Days Between, Length: 91597, dtype: float64\n"
     ]
    }
   ],
   "source": [
    "# Aggregation\n",
    "CriminalJustice_df['Offense Date'] = pd.to_datetime(CriminalJustice_df['Offense Date'], errors='coerce')\n",
    "CriminalJustice_df['Sentence Date'] = pd.to_datetime(CriminalJustice_df['Sentence Date'], errors='coerce')\n",
    "\n",
    "# Calculate the difference in days and create a new column 'Days Between'\n",
    "CriminalJustice_df['Days Between'] = (CriminalJustice_df['Sentence Date'] - CriminalJustice_df['Offense Date']).dt.days\n",
    "print(CriminalJustice_df['Days Between'])"
   ]
  },
  {
   "cell_type": "code",
   "execution_count": 43,
   "id": "d074709b",
   "metadata": {},
   "outputs": [],
   "source": [
    "# Convert any non-numeric values to NaN and ensure numeric type\n",
    "CriminalJustice_df['Age'] = pd.to_numeric(CriminalJustice_df['Age'], errors='coerce')\n",
    "CriminalJustice_df['Days Between'] = pd.to_numeric(CriminalJustice_df['Days Between'], errors='coerce')\n",
    "\n",
    "CriminalJustice_df.dropna(subset=['Age', 'Days Between'], inplace=True)\n",
    "\n",
    "# Separate features and target variable\n",
    "X = CriminalJustice_df[['Age', 'Days Between']]\n",
    "y = CriminalJustice_df['Record Type'] \n",
    "\n",
    "# Apply SMOTE to balance the dataset\n",
    "smote = SMOTE()\n",
    "X_balanced, y_balanced = smote.fit_resample(X, y)\n",
    "\n",
    "balanced_df = pd.concat([pd.DataFrame(X_balanced, columns=['Age', 'Days Between']), pd.DataFrame(y_balanced, columns=['Record Type'])], axis=1)\n",
    "\n"
   ]
  },
  {
   "cell_type": "code",
   "execution_count": 44,
   "id": "7388d1e8",
   "metadata": {},
   "outputs": [
    {
     "name": "stdout",
     "output_type": "stream",
     "text": [
      "Outliers for 'Age':\n",
      "             Date       Type Inmate Type Gender   Race  Age     County  \\\n",
      "0      09/14/2021     Parole          G2      M  Black   75     Travis   \n",
      "1      05/13/2022  Discharge          G2      M  White   81  Galveston   \n",
      "2      02/22/2022     Parole          MH      M  Black   83     Karnes   \n",
      "3      01/31/2022        DMS          G1      M  White   76   Brazoria   \n",
      "4      12/20/2021     Parole          G2      M  Black   75     Potter   \n",
      "...           ...        ...         ...    ...    ...  ...        ...   \n",
      "84829  07/07/2022    New Rcv          ID      M  White   73     Parker   \n",
      "84956  08/10/2022    New Rcv          ID      F  White   81    Kaufman   \n",
      "87348  12/10/2021    New Rcv          ID      M  White   73       Hays   \n",
      "90713  12/03/2021    New Rcv          ID      M  White   78       Kerr   \n",
      "91379  11/19/2021    New Rcv          ID      M  White   73     Upshur   \n",
      "\n",
      "       Offense Code  Offense                             Offense Description  \\\n",
      "0           9150000  Violent                                 HOMICIDE-MURDER   \n",
      "1           9990017  Violent                                    MANSLAUGHTER   \n",
      "2          11990003  Violent                                AGG SEXUAL ASSLT   \n",
      "3          54040011    Other       DRIVING WHILE INTOXICATED 3RD OR MORE IAT   \n",
      "4          35990014     Drug                                POSS CS PG 1 <1G   \n",
      "...             ...      ...                                             ...   \n",
      "84829      36010001  Violent                INDECENCY W/CHILD SEXUAL CONTACT   \n",
      "84956       9990030  Violent                                          MURDER   \n",
      "87348       9990030  Violent                                          MURDER   \n",
      "90713      36990007    Other  FAIL TO COMPLY SEX OFF DUTY TO REG LIFE/ANNUAL   \n",
      "91379      36010005  Violent                INDECENCY W/CHILD SEXUAL CONTACT   \n",
      "\n",
      "      Sentence Date Offense Date Sentence (Years) Record Type  Days Between  \\\n",
      "0        1986-09-11   1986-05-16             Life     Release         118.0   \n",
      "1        2004-05-18   2002-09-02   16 to 20 Years     Release         624.0   \n",
      "2        1996-12-02   1996-06-15   31 to 40 Years     Release         170.0   \n",
      "3        2016-02-29   2015-07-25   11 to 15 Years     Release         219.0   \n",
      "4        2019-04-10   2017-12-28   11 to 15 Years     Release         468.0   \n",
      "...             ...          ...              ...         ...           ...   \n",
      "84829    2022-06-08   2013-04-08   16 to 20 Years     Receive        3348.0   \n",
      "84956    2022-08-03   2021-09-14             Life     Receive         323.0   \n",
      "87348    2021-10-13   2017-02-09   26 to 30 Years     Receive        1707.0   \n",
      "90713    2021-10-28   2019-11-19          8 Years     Receive         709.0   \n",
      "91379    2021-10-12   2020-12-04   16 to 20 Years     Receive         312.0   \n",
      "\n",
      "       Age_z_scores  Days_Between_z_scores  \n",
      "0          3.313308              -0.739077  \n",
      "1          3.846653              -0.002207  \n",
      "2          4.024434              -0.663351  \n",
      "3          3.402199              -0.591994  \n",
      "4          3.313308              -0.229384  \n",
      "...             ...                    ...  \n",
      "84829      3.135526               3.964663  \n",
      "84956      3.846653              -0.440543  \n",
      "87348      3.135526               1.574930  \n",
      "90713      3.579980               0.121576  \n",
      "91379      3.135526              -0.456562  \n",
      "\n",
      "[316 rows x 17 columns]\n",
      "\n",
      "Outliers for 'Days Between':\n",
      "             Date               Type Inmate Type Gender      Race  Age  \\\n",
      "192    12/22/2021             Parole          DP      M  Hispanic   70   \n",
      "204    07/15/2022                 MS          G2      M     White   73   \n",
      "234    06/08/2022             Parole          S1      M  Hispanic   69   \n",
      "315    07/08/2022          Discharge          MH      M  Hispanic   65   \n",
      "340    06/30/2022             Parole          G2      M  Hispanic   68   \n",
      "...           ...                ...         ...    ...       ...  ...   \n",
      "91207  09/22/2021            New Rcv          ID      M  Hispanic   49   \n",
      "91236  05/12/2022            New Rcv          ID      M     White   65   \n",
      "91426  06/29/2022            New Rcv          ID      M     White   59   \n",
      "91481  04/13/2022  NR-Prob-Tech Only          ID      F  Hispanic   42   \n",
      "91499  10/05/2021            New Rcv          ID      F  Hispanic   42   \n",
      "\n",
      "           County  Offense Code   Offense  \\\n",
      "192      Anderson      54040011     Other   \n",
      "204       Randall      36140000   Violent   \n",
      "234    Montgomery      36010001   Violent   \n",
      "315       Tarrant      11990004   Violent   \n",
      "340         Bexar      13990042   Violent   \n",
      "...           ...           ...       ...   \n",
      "91207      Dallas      13990043   Violent   \n",
      "91236       Delta      36010001   Violent   \n",
      "91426     Tarrant      11990012   Violent   \n",
      "91481      Dawson      25890014  Property   \n",
      "91499       Bexar      36010001   Violent   \n",
      "\n",
      "                                  Offense Description Sentence Date  \\\n",
      "192         DRIVING WHILE INTOXICATED 3RD OR MORE IAT    2019-01-08   \n",
      "204            INDECENCY/EXPOSURE/ATTEMP/INTENT/CONSP    2016-06-16   \n",
      "234                  INDECENCY W/CHILD SEXUAL CONTACT    2017-07-07   \n",
      "315                            AGG SEXUAL ASSLT CHILD    2019-01-04   \n",
      "340     INJ CHILD/ELDERLY/DISABLED RECKLESS BI/MENTAL    2017-02-28   \n",
      "...                                               ...           ...   \n",
      "91207   INJURY CHILD/ELDERLY/DISABLE W/INT BODILY INJ    2021-09-01   \n",
      "91236                INDECENCY W/CHILD SEXUAL CONTACT    2022-03-25   \n",
      "91426  SEX ABUSE OF CHILD CONTINUOUS: VICTIM UNDER 14    2022-05-25   \n",
      "91481                  FOOD STAMPS UNAUTH POSS >=$200    2022-03-09   \n",
      "91499                INDECENCY W/CHILD SEXUAL CONTACT    2021-08-27   \n",
      "\n",
      "      Offense Date Sentence (Years) Record Type  Days Between  Age_z_scores  \\\n",
      "192     2010-05-21   11 to 15 Years     Release        3154.0      2.868854   \n",
      "204     1989-07-01   11 to 15 Years     Release        9847.0      3.135526   \n",
      "234     2009-12-01          7 Years     Release        2775.0      2.779963   \n",
      "315     2006-07-09   16 to 20 Years     Release        4562.0      2.424400   \n",
      "340     2009-03-19   16 to 20 Years     Release        2903.0      2.691072   \n",
      "...            ...              ...         ...           ...           ...   \n",
      "91207   2006-06-01   2 Years & Less     Receive        5571.0      1.002147   \n",
      "91236   2013-03-21         10 Years     Receive        3291.0      2.424400   \n",
      "91426   2010-09-03   31 to 40 Years     Receive        4282.0      1.891055   \n",
      "91481   2012-11-01   2 Years & Less     Receive        3415.0      0.379912   \n",
      "91499   2011-09-09          6 Years     Receive        3640.0      0.379912   \n",
      "\n",
      "       Days_Between_z_scores  \n",
      "192                 3.682148  \n",
      "204                13.428939  \n",
      "234                 3.130223  \n",
      "315                 5.732571  \n",
      "340                 3.316625  \n",
      "...                      ...  \n",
      "91207               7.201944  \n",
      "91236               3.881656  \n",
      "91426               5.324816  \n",
      "91481               4.062233  \n",
      "91499               4.389893  \n",
      "\n",
      "[1583 rows x 17 columns]\n",
      "\n",
      "Dataset without outliers:\n",
      "             Date                 Type Inmate Type Gender      Race  Age  \\\n",
      "34     10/20/2021               Parole          G2      M     White   69   \n",
      "57     10/15/2021               Parole          DP      M  Hispanic   71   \n",
      "59     04/08/2022               Parole          G2      M     White   71   \n",
      "64     02/16/2022                   MS          G1      M     White   69   \n",
      "65     11/30/2021            Discharge          II      M  Hispanic   71   \n",
      "...           ...                  ...         ...    ...       ...  ...   \n",
      "91593  08/10/2022    NR-Prob-Tech Only          ID      F     Black   23   \n",
      "91594  07/06/2022              New Rcv          SJ      M  Hispanic   32   \n",
      "91595  06/02/2022              New Rcv          ID      M  Hispanic   20   \n",
      "91596  04/27/2022  NR-Prob-New Offense          ID      M  Hispanic   23   \n",
      "91597  12/02/2021  NR-Prob-New Offense          ID      M     Black   20   \n",
      "\n",
      "          County  Offense Code   Offense  \\\n",
      "34       Houston      23990196  Property   \n",
      "57        Travis      54040011     Other   \n",
      "59        Harris      35990015      Drug   \n",
      "64     Galveston      35110000      Drug   \n",
      "65        Harris      13150005   Violent   \n",
      "...          ...           ...       ...   \n",
      "91593    Tarrant      13150005   Violent   \n",
      "91594   Atascosa      22990001  Property   \n",
      "91595      Bexar      12990002   Violent   \n",
      "91596    Cameron      35620012      Drug   \n",
      "91597      Bexar      48010020     Other   \n",
      "\n",
      "                         Offense Description Sentence Date Offense Date  \\\n",
      "34      THEFT PROP <$2,500  2/MORE PREV CONV    2020-12-15   2017-10-26   \n",
      "57     DRIVING WHILE INTOXICATED 3RD OR MORE    2012-09-28   2012-01-29   \n",
      "59                      POSS CS PG 1 >=1G<4G    2010-04-06   2007-09-24   \n",
      "64                         HEROIN-DISTRIBUTE    1988-12-12   1988-02-12   \n",
      "65               AGG ASSAULT W/DEADLY WEAPON    2019-03-19   2018-12-01   \n",
      "...                                      ...           ...          ...   \n",
      "91593              AGG ASSLT W/DEADLY WEAPON    2022-07-22   2018-03-30   \n",
      "91594                   BURGLARY OF BUILDING    2022-04-25   2020-05-08   \n",
      "91595                            AGG ROBBERY    2022-05-10   2021-03-10   \n",
      "91596         POSS MARIJ <= 2,000LBS > 50LBS    2022-02-23   2016-01-21   \n",
      "91597               EVADING ARREST DET W/VEH    2021-11-02   2018-06-26   \n",
      "\n",
      "      Sentence (Years) Record Type  Days Between  \n",
      "34      2 Years & Less     Release        1146.0  \n",
      "57      21 to 25 Years     Release         243.0  \n",
      "59      11 to 15 Years     Release         925.0  \n",
      "64      26 to 30 Years     Release         304.0  \n",
      "65             3 Years     Release         108.0  \n",
      "...                ...         ...           ...  \n",
      "91593   2 Years & Less     Receive        1575.0  \n",
      "91594  11 to 12 Months     Receive         717.0  \n",
      "91595         10 Years     Receive         426.0  \n",
      "91596          5 Years     Receive        2225.0  \n",
      "91597          3 Years     Receive        1225.0  \n",
      "\n",
      "[81635 rows x 15 columns]\n"
     ]
    }
   ],
   "source": [
    "# Calculate Z-scores for 'Age' and 'Days Between' columns\n",
    "CriminalJustice_df['Age_z_scores'] = stats.zscore(CriminalJustice_df['Age'])\n",
    "CriminalJustice_df['Days_Between_z_scores'] = stats.zscore(CriminalJustice_df['Days Between']) \n",
    "\n",
    "threshold = 3\n",
    "\n",
    "# Identify outliers for 'Age'\n",
    "outliers_age = CriminalJustice_df[abs(CriminalJustice_df['Age_z_scores']) > threshold]\n",
    "# Identify outliers for 'Days Between'\n",
    "outliers_days_between = CriminalJustice_df[abs(CriminalJustice_df['Days_Between_z_scores']) > threshold]  \n",
    "\n",
    "CriminalJustice_df = CriminalJustice_df[(abs(CriminalJustice_df['Age_z_scores']) <= threshold) & (abs(CriminalJustice_df['Days_Between_z_scores']) <= threshold)]  \n",
    "\n",
    "CriminalJustice_df = CriminalJustice_df.drop(columns=['Age_z_scores', 'Days_Between_z_scores'])  \n",
    "\n",
    "print(\"Outliers for 'Age':\")\n",
    "print(outliers_age)\n",
    "\n",
    "print(\"\\nOutliers for 'Days Between':\")  \n",
    "print(outliers_days_between)\n",
    "\n",
    "print(\"\\nDataset without outliers:\")\n",
    "print(CriminalJustice_df)"
   ]
  },
  {
   "cell_type": "code",
   "execution_count": 58,
   "id": "e1bcb25e",
   "metadata": {},
   "outputs": [
    {
     "name": "stdout",
     "output_type": "stream",
     "text": [
      "   Sentence (Years)  Sentence Numeric  Sentence Scaled\n",
      "34   2 Years & Less                 2             0.02\n",
      "57   21 to 25 Years                23             0.23\n",
      "59   11 to 15 Years                13             0.13\n",
      "64   26 to 30 Years                28             0.28\n",
      "65          3 Years                 3             0.03\n"
     ]
    }
   ],
   "source": [
    "# Aggregation\n",
    "import re\n",
    "from sklearn.preprocessing import MinMaxScaler\n",
    "\n",
    "def sentence_to_numeric(sentence):\n",
    "    if 'life' in sentence.lower().strip():\n",
    "        return 100\n",
    "    elif '+' in sentence:\n",
    "        base_number = re.findall(r'\\d+', sentence)\n",
    "        return int(base_number[0]) if base_number else 0\n",
    "\n",
    "    numbers = re.findall(r'\\d+', sentence)\n",
    "\n",
    "    if len(numbers) >= 2:\n",
    "        lower, upper = map(int, numbers[:2])\n",
    "        return (lower + upper) // 2\n",
    "    elif numbers:\n",
    "        return int(numbers[0])\n",
    "    else:\n",
    "        return 0\n",
    "\n",
    "if 'Sentence (Years)' in CriminalJustice_df.columns:\n",
    "    CriminalJustice_df['Sentence Numeric'] = CriminalJustice_df['Sentence (Years)'].apply(sentence_to_numeric)\n",
    "else:\n",
    "    print(\"'Sentence (Years)' column not found in the dataset.\")\n",
    "\n",
    "scaler = MinMaxScaler()\n",
    "CriminalJustice_df['Sentence Scaled'] = scaler.fit_transform(CriminalJustice_df[['Sentence Numeric']].values.reshape(-1, 1))\n",
    "\n",
    "print(CriminalJustice_df[['Sentence (Years)', 'Sentence Numeric', 'Sentence Scaled']].head())"
   ]
  }
 ],
 "metadata": {
  "kernelspec": {
   "display_name": "Python 3 (ipykernel)",
   "language": "python",
   "name": "python3"
  },
  "language_info": {
   "codemirror_mode": {
    "name": "ipython",
    "version": 3
   },
   "file_extension": ".py",
   "mimetype": "text/x-python",
   "name": "python",
   "nbconvert_exporter": "python",
   "pygments_lexer": "ipython3",
   "version": "3.12.1"
  }
 },
 "nbformat": 4,
 "nbformat_minor": 5
}
