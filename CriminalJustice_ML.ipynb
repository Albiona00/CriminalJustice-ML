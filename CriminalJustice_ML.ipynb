{
 "cells": [
  {
   "cell_type": "markdown",
   "id": "80e351e6",
   "metadata": {},
   "source": [
    "##### Import Libraries"
   ]
  },
  {
   "cell_type": "code",
   "execution_count": 6,
   "id": "290950b2",
   "metadata": {},
   "outputs": [],
   "source": [
    "import pandas as pd"
   ]
  },
  {
   "cell_type": "markdown",
   "id": "ee8fcc1b",
   "metadata": {},
   "source": [
    "##### Read datasets"
   ]
  },
  {
   "cell_type": "code",
   "execution_count": 7,
   "id": "0f6b43a6",
   "metadata": {},
   "outputs": [],
   "source": [
    "CJ_releases_df = pd.read_csv('C:/MachineLearning/CJ_Releases_2022.csv')\n",
    "CJ_receives_df = pd.read_csv('C:/MachineLearning/CJ_Receives_2022.csv')"
   ]
  },
  {
   "cell_type": "markdown",
   "id": "8f546b2c",
   "metadata": {},
   "source": [
    "### Phase I"
   ]
  },
  {
   "cell_type": "code",
   "execution_count": 8,
   "id": "73c123f2",
   "metadata": {},
   "outputs": [],
   "source": [
    "# Column rename\n",
    "CJ_releases_df.rename(columns={'Release Date': 'Date', 'Release Type': 'Type'}, inplace=True)\n",
    "CJ_receives_df.rename(columns={'Receive Date': 'Date', 'Receive Type': 'Type'}, inplace=True)\n",
    "\n",
    "CJ_releases_df['Record Type'] = 'Release'\n",
    "CJ_receives_df['Record Type'] = 'Receive'\n"
   ]
  },
  {
   "cell_type": "markdown",
   "id": "4ac14a14",
   "metadata": {},
   "source": [
    "##### Datasets Integration"
   ]
  },
  {
   "cell_type": "code",
   "execution_count": 9,
   "id": "807b64d1",
   "metadata": {},
   "outputs": [],
   "source": [
    "\n",
    "CriminalJustice_df = pd.concat([CJ_releases_df, CJ_receives_df], ignore_index=True)\n",
    "\n",
    "file_path = 'C:\\\\CJ_ML\\\\CriminalJustice_df.csv'\n",
    "CriminalJustice_df.to_csv(file_path, index=False)"
   ]
  },
  {
   "cell_type": "code",
   "execution_count": 10,
   "id": "45934759",
   "metadata": {},
   "outputs": [
    {
     "name": "stdout",
     "output_type": "stream",
     "text": [
      "Date                    326\n",
      "Type                     23\n",
      "Inmate Type              42\n",
      "Gender                    2\n",
      "Race                      6\n",
      "Age                      72\n",
      "County                  251\n",
      "Offense Code            716\n",
      "Offense                   4\n",
      "Offense Description     710\n",
      "Sentence Date          5623\n",
      "Offense Date           7783\n",
      "Sentence (Years)         40\n",
      "Record Type               2\n",
      "dtype: int64\n"
     ]
    }
   ],
   "source": [
    "# Unique values\n",
    "print(CriminalJustice_df.nunique())"
   ]
  },
  {
   "cell_type": "code",
   "execution_count": 16,
   "id": "aa3727ee",
   "metadata": {},
   "outputs": [
    {
     "name": "stdout",
     "output_type": "stream",
     "text": [
      "Number of duplicate rows: 1\n",
      "Duplicate Rows:\n",
      "             Date     Type Inmate Type Gender   Race  Age County  \\\n",
      "84000  08/01/2022  New Rcv          ID      M  Black   19  Falls   \n",
      "\n",
      "       Offense Code  Offense        Offense Description Sentence Date  \\\n",
      "84000      13150005  Violent  AGG ASSLT W/DEADLY WEAPON    07/14/2022   \n",
      "\n",
      "      Offense Date Sentence (Years) Record Type  \n",
      "84000   08/26/2021         10 Years     Receive  \n",
      "Indices of duplicate rows: [84000]\n",
      "Number of duplicate rows after deletion: 0\n",
      "All duplicate rows have been successfully deleted.\n"
     ]
    }
   ],
   "source": [
    "# Check for duplicate rows\n",
    "duplicates = CriminalJustice_df[CriminalJustice_df.duplicated(keep='first')]\n",
    "\n",
    "num_duplicates = duplicates.shape[0]\n",
    "print(f\"Number of duplicate rows: {num_duplicates}\")\n",
    "\n",
    "if num_duplicates > 0:\n",
    "    print(\"Duplicate Rows:\")\n",
    "    print(duplicates)\n",
    "    duplicate_indices = duplicates.index.tolist()\n",
    "    print(f\"Indices of duplicate rows: {duplicate_indices}\")\n",
    "else:\n",
    "    print(\"No duplicate rows found.\")\n",
    "\n",
    "# Remove duplicate rows\n",
    "CriminalJustice_df = CriminalJustice_df.drop_duplicates(keep='first')\n",
    "\n",
    "duplicates_after_deletion = CriminalJustice_df[CriminalJustice_df.duplicated(keep='first')]\n",
    "num_duplicates_after_deletion = duplicates_after_deletion.shape[0]\n",
    "\n",
    "print(f\"Number of duplicate rows after deletion: {num_duplicates_after_deletion}\")\n",
    "if num_duplicates_after_deletion > 0:\n",
    "    print(\"There are still duplicate rows after deletion, which is unexpected.\")\n",
    "else:\n",
    "    print(\"All duplicate rows have been successfully deleted.\")"
   ]
  },
  {
   "cell_type": "markdown",
   "id": "42b8ac09",
   "metadata": {},
   "source": [
    "##### Handling missing values"
   ]
  },
  {
   "cell_type": "code",
   "execution_count": 12,
   "id": "be7f41c3",
   "metadata": {},
   "outputs": [
    {
     "name": "stdout",
     "output_type": "stream",
     "text": [
      "Date                      0\n",
      "Type                      0\n",
      "Inmate Type               0\n",
      "Gender                    0\n",
      "Race                      0\n",
      "Age                       0\n",
      "County                    0\n",
      "Offense Code              0\n",
      "Offense                   0\n",
      "Offense Description     276\n",
      "Sentence Date          8085\n",
      "Offense Date              4\n",
      "Sentence (Years)          0\n",
      "Record Type               0\n",
      "dtype: int64\n"
     ]
    }
   ],
   "source": [
    "# Null values\n",
    "print(CriminalJustice_df.isnull().sum())"
   ]
  },
  {
   "cell_type": "code",
   "execution_count": 13,
   "id": "d1ce9af1",
   "metadata": {},
   "outputs": [],
   "source": [
    "# Fill missing  'Offense Description' based on the Offense Code\n",
    "offense_code_to_description = CriminalJustice_df.dropna(subset=['Offense Description']).groupby('Offense Code')['Offense Description'].agg(pd.Series.mode).to_dict()\n",
    "CriminalJustice_df.loc[CriminalJustice_df['Offense Description'].isnull(), 'Offense Description'] = CriminalJustice_df.loc[CriminalJustice_df['Offense Description'].isnull(), 'Offense Code'].map(offense_code_to_description)\n",
    "offense_code_to_description = CriminalJustice_df.dropna(subset=['Offense Description']).groupby('Offense Code')['Offense Description'].agg(lambda x: pd.Series.mode(x).iloc[0]).to_dict()\n",
    "CriminalJustice_df.loc[CriminalJustice_df['Offense Description'].isnull(), 'Offense Description'] = CriminalJustice_df.loc[CriminalJustice_df['Offense Description'].isnull(), 'Offense Code'].map(offense_code_to_description)\n",
    "\n",
    "CriminalJustice_df['Offense Description'] = CriminalJustice_df['Offense Description'].fillna('Unknown')"
   ]
  },
  {
   "cell_type": "code",
   "execution_count": 14,
   "id": "4648781f",
   "metadata": {},
   "outputs": [
    {
     "name": "stdout",
     "output_type": "stream",
     "text": [
      "Date                   0\n",
      "Type                   0\n",
      "Inmate Type            0\n",
      "Gender                 0\n",
      "Race                   0\n",
      "Age                    0\n",
      "County                 0\n",
      "Offense Code           0\n",
      "Offense                0\n",
      "Offense Description    0\n",
      "Sentence Date          0\n",
      "Offense Date           0\n",
      "Sentence (Years)       0\n",
      "Record Type            0\n",
      "dtype: int64\n"
     ]
    }
   ],
   "source": [
    "# Fill missing 'Sentence Date' and 'Offense Date' with 'Unknown'\n",
    "CriminalJustice_df['Sentence Date'] = CriminalJustice_df['Sentence Date'].fillna('Unknown')\n",
    "CriminalJustice_df['Offense Date'] = CriminalJustice_df['Offense Date'].fillna('Unknown')\n",
    "\n",
    "CriminalJustice_df.to_csv('C:\\\\CJ_ML\\\\CriminalJustice_df_filledDates.csv', index=False)\n",
    "\n",
    "print(CriminalJustice_df.isnull().sum())"
   ]
  }
 ],
 "metadata": {
  "kernelspec": {
   "display_name": "Python 3 (ipykernel)",
   "language": "python",
   "name": "python3"
  },
  "language_info": {
   "codemirror_mode": {
    "name": "ipython",
    "version": 3
   },
   "file_extension": ".py",
   "mimetype": "text/x-python",
   "name": "python",
   "nbconvert_exporter": "python",
   "pygments_lexer": "ipython3",
   "version": "3.12.1"
  }
 },
 "nbformat": 4,
 "nbformat_minor": 5
}
