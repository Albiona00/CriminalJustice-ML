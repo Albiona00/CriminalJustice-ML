{
 "cells": [
  {
   "cell_type": "code",
   "execution_count": 7,
   "id": "290950b2",
   "metadata": {},
   "outputs": [],
   "source": [
    "import pandas as pd"
   ]
  },
  {
   "cell_type": "markdown",
   "id": "ee8fcc1b",
   "metadata": {},
   "source": [
    "##### Leximi i dataseteve"
   ]
  },
  {
   "cell_type": "code",
   "execution_count": 8,
   "id": "0f6b43a6",
   "metadata": {},
   "outputs": [],
   "source": [
    "CJ_releases_df = pd.read_csv('C:/MachineLearning/CJ_Releases_2022.csv')\n",
    "CJ_receives_df = pd.read_csv('C:/MachineLearning/CJ_Receives_2022.csv')"
   ]
  },
  {
   "cell_type": "markdown",
   "id": "8f546b2c",
   "metadata": {},
   "source": [
    "### Faza I"
   ]
  },
  {
   "cell_type": "code",
   "execution_count": 4,
   "id": "73c123f2",
   "metadata": {},
   "outputs": [],
   "source": [
    "CJ_releases_df.rename(columns={'Release Date': 'Date', 'Release Type': 'Type'}, inplace=True)\n",
    "CJ_receives_df.rename(columns={'Receive Date': 'Date', 'Receive Type': 'Type'}, inplace=True)\n",
    "\n",
    "# Step 2: Add the 'Record Type' column\n",
    "CJ_releases_df['Record Type'] = 'Release'\n",
    "CJ_receives_df['Record Type'] = 'Receive'\n",
    "\n",
    "# Step 3: Concatenate the datasets\n",
    "CriminalJustice_df = pd.concat([CJ_releases_df, CJ_receives_df], ignore_index=True)"
   ]
  },
  {
   "cell_type": "markdown",
   "id": "e3b3cc19",
   "metadata": {},
   "source": [
    "##### Agregimi i dataseteve"
   ]
  },
  {
   "cell_type": "code",
   "execution_count": 5,
   "id": "ae773926",
   "metadata": {},
   "outputs": [],
   "source": [
    "file_path = 'C:\\\\MachineLearning\\\\CriminalJustice_df.csv'\n",
    "CriminalJustice_df.to_csv(file_path, index=False)"
   ]
  }
 ],
 "metadata": {
  "kernelspec": {
   "display_name": "Python 3 (ipykernel)",
   "language": "python",
   "name": "python3"
  },
  "language_info": {
   "codemirror_mode": {
    "name": "ipython",
    "version": 3
   },
   "file_extension": ".py",
   "mimetype": "text/x-python",
   "name": "python",
   "nbconvert_exporter": "python",
   "pygments_lexer": "ipython3",
   "version": "3.12.1"
  }
 },
 "nbformat": 4,
 "nbformat_minor": 5
}
